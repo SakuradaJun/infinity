{
 "cells": [
  {
   "cell_type": "code",
   "execution_count": 130,
   "metadata": {},
   "outputs": [],
   "source": [
    "import mistune\n",
    "import bs4\n",
    "import yaml\n",
    "\n",
    "from src.core.models import Topic"
   ]
  },
  {
   "cell_type": "code",
   "execution_count": null,
   "metadata": {},
   "outputs": [],
   "source": [
    "yaml.dump(data, ff, allow_unicode=True)"
   ]
  },
  {
   "cell_type": "code",
   "execution_count": 157,
   "metadata": {},
   "outputs": [],
   "source": [
    "import json"
   ]
  },
  {
   "cell_type": "code",
   "execution_count": 160,
   "metadata": {},
   "outputs": [
    {
     "name": "stdout",
     "output_type": "stream",
     "text": [
      "inf: wish_pursuit=0010 state=successful\n",
      "name: ensure everyone realizes their true wishes\n",
      "\n"
     ]
    }
   ],
   "source": [
    "yaml.dump(needs[0], allow_unicode=True, default_flow_style=False)"
   ]
  },
  {
   "cell_type": "code",
   "execution_count": 146,
   "metadata": {},
   "outputs": [
    {
     "data": {
      "text/plain": [
       "[{'inf': 'wish_pursuit=0010 state=successful',\n",
       "  'name': 'ensure everyone realizes their true wishes'},\n",
       " {'inf': 'brain=x1h1 state=latest',\n",
       "  'name': 'ensure everyone has latest organs and healthy'},\n",
       " {'inf': 'eyes=zoptix state=latest',\n",
       "  'name': 'make best eyes that fits to the skull'},\n",
       " {'inf': 'blood=hh1o state=latest',\n",
       "  'name': 'make blood that can carry most oxygen and CO<sub>2</sub>'},\n",
       " {'inf': 'liver=anix state=latest',\n",
       "  'name': 'make sure we can metabolize complex molecules, and synthesize bile for digestion'},\n",
       " {'inf': 'kidney=anio state=latest',\n",
       "  'name': 'make sure we can remove waste materials, and regulate water levels'},\n",
       " {'inf': 'stomach=z88b state=latest', 'name': 'make sure we can digest food'},\n",
       " {'name': 'ensure breathing is active',\n",
       "  'service': 'name=lungs state=started enabled=yes'},\n",
       " {'name': 'ensure blood circulation is active',\n",
       "  'service': 'name=heart state=started enabled=yes'},\n",
       " {'inf': 'concrete=x1h1 state=present',\n",
       "  'name': 'ensure they are supplied with concrete type X123'}]"
      ]
     },
     "execution_count": 146,
     "metadata": {},
     "output_type": "execute_result"
    }
   ],
   "source": [
    "[_['name'] for _ in needs]"
   ]
  },
  {
   "cell_type": "code",
   "execution_count": 145,
   "metadata": {},
   "outputs": [
    {
     "data": {
      "text/plain": [
       "['ensure everyone realizes their true wishes',\n",
       " 'ensure everyone has latest organs and healthy',\n",
       " 'make best eyes that fits to the skull',\n",
       " 'make blood that can carry most oxygen and CO<sub>2</sub>',\n",
       " 'make sure we can metabolize complex molecules, and synthesize bile for digestion',\n",
       " 'make sure we can remove waste materials, and regulate water levels',\n",
       " 'make sure we can digest food',\n",
       " 'ensure breathing is active',\n",
       " 'ensure blood circulation is active',\n",
       " 'ensure they are supplied with concrete type X123']"
      ]
     },
     "execution_count": 145,
     "metadata": {},
     "output_type": "execute_result"
    }
   ],
   "source": [
    "[d['name'] for d in needs]"
   ]
  },
  {
   "cell_type": "code",
   "execution_count": null,
   "metadata": {},
   "outputs": [],
   "source": []
  },
  {
   "cell_type": "code",
   "execution_count": 129,
   "metadata": {},
   "outputs": [
    {
     "data": {
      "text/plain": [
       "[{'inf': 'wish_pursuit=0010 state=successful',\n",
       "  'name': 'ensure everyone realizes their true wishes'},\n",
       " {'inf': 'brain=x1h1 state=latest',\n",
       "  'name': 'ensure everyone has latest organs and healthy'},\n",
       " {'inf': 'eyes=zoptix state=latest',\n",
       "  'name': 'make best eyes that fits to the skull'},\n",
       " {'inf': 'blood=hh1o state=latest',\n",
       "  'name': 'make blood that can carry most oxygen and CO<sub>2</sub>'},\n",
       " {'inf': 'liver=anix state=latest',\n",
       "  'name': 'make sure we can metabolize complex molecules, and synthesize bile for digestion'},\n",
       " {'inf': 'kidney=anio state=latest',\n",
       "  'name': 'make sure we can remove waste materials, and regulate water levels'},\n",
       " {'inf': 'stomach=z88b state=latest', 'name': 'make sure we can digest food'},\n",
       " {'name': 'ensure breathing is active',\n",
       "  'service': 'name=lungs state=started enabled=yes'},\n",
       " {'name': 'ensure blood circulation is active',\n",
       "  'service': 'name=heart state=started enabled=yes'},\n",
       " {'inf': 'concrete=x1h1 state=present',\n",
       "  'name': 'ensure they are supplied with concrete type X123'}]"
      ]
     },
     "execution_count": 129,
     "metadata": {},
     "output_type": "execute_result"
    }
   ],
   "source": [
    "topic = Topic.objects.filter(type=1).first()\n",
    "\n",
    "soup = bs4.BeautifulSoup(\n",
    "    mistune.markdown(topic.body),\n",
    "    'html.parser'\n",
    ")\n",
    "\n",
    "need_lists = soup.find_all('code', {'class': 'lang-yml'})\n",
    "\n",
    "needs = []\n",
    "\n",
    "for i, need_list in enumerate(need_lists):\n",
    "    txt = need_list.text\n",
    "    yml = yaml.load(txt)\n",
    "    for block in yml:\n",
    "        if 'needs' in block.keys():\n",
    "            needs.extend(block['needs'])\n",
    "\n",
    "needs"
   ]
  },
  {
   "cell_type": "code",
   "execution_count": 10,
   "metadata": {},
   "outputs": [
    {
     "data": {
      "text/plain": [
       "<Topic: [Task] .:nl:Some Need>"
      ]
     },
     "execution_count": 10,
     "metadata": {},
     "output_type": "execute_result"
    }
   ],
   "source": [
    "Topic.objects.create(\n",
    "    title='.:en:Some Need',\n",
    "    body='.:en\\nsome condition',\n",
    "    owner=topic.owner,\n",
    "    type=0\n",
    ")"
   ]
  },
  {
   "cell_type": "code",
   "execution_count": 137,
   "metadata": {},
   "outputs": [
    {
     "data": {
      "text/plain": [
       "<Topic: [Goal] .:en:Name>"
      ]
     },
     "execution_count": 137,
     "metadata": {},
     "output_type": "execute_result"
    }
   ],
   "source": [
    "Topic.objects.all()[1]"
   ]
  },
  {
   "cell_type": "code",
   "execution_count": 138,
   "metadata": {},
   "outputs": [],
   "source": [
    "t = _"
   ]
  },
  {
   "cell_type": "code",
   "execution_count": 139,
   "metadata": {},
   "outputs": [],
   "source": [
    "t.type=0"
   ]
  },
  {
   "cell_type": "code",
   "execution_count": 140,
   "metadata": {},
   "outputs": [],
   "source": [
    "t.save()"
   ]
  },
  {
   "cell_type": "code",
   "execution_count": null,
   "metadata": {},
   "outputs": [],
   "source": []
  }
 ],
 "metadata": {
  "kernelspec": {
   "display_name": "Python 3",
   "language": "python",
   "name": "python3"
  },
  "language_info": {
   "codemirror_mode": {
    "name": "ipython",
    "version": 3
   },
   "file_extension": ".py",
   "mimetype": "text/x-python",
   "name": "python",
   "nbconvert_exporter": "python",
   "pygments_lexer": "ipython3",
   "version": "3.5.3"
  }
 },
 "nbformat": 4,
 "nbformat_minor": 2
}
