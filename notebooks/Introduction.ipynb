{
 "cells": [
  {
   "cell_type": "markdown",
   "metadata": {},
   "source": [
    "# inf.li:\n",
    "__inf__: information<br>\n",
    "__li__: life intelligence"
   ]
  },
  {
   "cell_type": "markdown",
   "metadata": {},
   "source": [
    "# Introduction\n",
    "\n",
    "This notebook is pre-configured to work with Django of this project's local version.\n",
    "\n",
    "# Starting up\n",
    "\n",
    "Locally just run:\n",
    "\n",
    "`docker-compose run --service-ports web bash`\n",
    "\n",
    "And once you're in, type:\n",
    "\n",
    "`jupyter lab --ip=0.0.0.0 --allow-root notebooks/`\n",
    "\n",
    "Then, open the suggested URL, e.g., http://0.0.0.0:8888/?token= [token provided in command line]"
   ]
  },
  {
   "cell_type": "markdown",
   "metadata": {},
   "source": [
    "**Tips:** enable console autosuggest by typing \"`bash`\", if you start terminal within Jupyter Lab environment, or better:\n",
    "\n",
    "```\n",
    "$ bash\n",
    "$ python manage.py runserver 0.0.0.0:8000\n",
    "```"
   ]
  },
  {
   "cell_type": "markdown",
   "metadata": {},
   "source": [
    "# Examples"
   ]
  },
  {
   "cell_type": "markdown",
   "metadata": {},
   "source": [
    "## Before Starting\n",
    "\n",
    "### Apply migrations and create superuser.\n",
    "\n",
    "Initially, the database is empty, and we'd need to install initial database:\n",
    "\n",
    "```\n",
    "docker-compose run web bash\n",
    "python manage.py migrate\n",
    "python manage.py createsuperuser   <-- (e.g., 'admin', 'admin@admin.com', 'helloinfinity')\n",
    "```\n",
    "\n",
    "**Note:** No matter what username you create, the username is automatically set based on e-mail hash to:"
   ]
  },
  {
   "cell_type": "code",
   "execution_count": 4,
   "metadata": {},
   "outputs": [
    {
     "data": {
      "text/plain": [
       "'Admin@D3942DCE'"
      ]
     },
     "execution_count": 4,
     "metadata": {},
     "output_type": "execute_result"
    }
   ],
   "source": [
    "from src.users.models import username_hash\n",
    "\n",
    "username_hash('admin@admin.com')"
   ]
  },
  {
   "cell_type": "markdown",
   "metadata": {},
   "source": [
    "### Import fixtures for initial database.\n",
    "\n",
    "```\n",
    "python manage.py loaddata fixtures/languages\n",
    "python manage.py loaddata fixtures/currencies.json\n",
    "python manage.py loaddata fixtures/currency_price_snapshots fixtures/hour_price_snapshots.json\n",
    "```\n"
   ]
  },
  {
   "cell_type": "code",
   "execution_count": 5,
   "metadata": {},
   "outputs": [],
   "source": [
    "from src.users.models import User"
   ]
  },
  {
   "cell_type": "code",
   "execution_count": 6,
   "metadata": {},
   "outputs": [
    {
     "data": {
      "text/plain": [
       "<User: Admin@D3942DCE>"
      ]
     },
     "execution_count": 6,
     "metadata": {},
     "output_type": "execute_result"
    }
   ],
   "source": [
    "User.objects.first()"
   ]
  },
  {
   "cell_type": "markdown",
   "metadata": {},
   "source": [
    "### Can create another users like so:"
   ]
  },
  {
   "cell_type": "code",
   "execution_count": 7,
   "metadata": {},
   "outputs": [],
   "source": [
    "u = User.objects.create(email='hello@world.org')"
   ]
  },
  {
   "cell_type": "code",
   "execution_count": 10,
   "metadata": {},
   "outputs": [
    {
     "data": {
      "text/plain": [
       "<User: Hello@C432A0CD>"
      ]
     },
     "execution_count": 10,
     "metadata": {},
     "output_type": "execute_result"
    }
   ],
   "source": [
    "u"
   ]
  },
  {
   "cell_type": "markdown",
   "metadata": {},
   "source": [
    "## Creating content"
   ]
  },
  {
   "cell_type": "code",
   "execution_count": 11,
   "metadata": {},
   "outputs": [],
   "source": [
    "from src.core.models import Topic, Comment"
   ]
  },
  {
   "cell_type": "code",
   "execution_count": 12,
   "metadata": {},
   "outputs": [
    {
     "data": {
      "text/plain": [
       "0"
      ]
     },
     "execution_count": 12,
     "metadata": {},
     "output_type": "execute_result"
    }
   ],
   "source": [
    "Topic.objects.count()"
   ]
  },
  {
   "cell_type": "code",
   "execution_count": 17,
   "metadata": {},
   "outputs": [],
   "source": [
    "t = Topic.objects.create(\n",
    "    owner=u,\n",
    "    title='Hello',\n",
    "    body='World',\n",
    "    type=1\n",
    ")"
   ]
  },
  {
   "cell_type": "code",
   "execution_count": 18,
   "metadata": {},
   "outputs": [
    {
     "data": {
      "text/plain": [
       "<Topic: [Goal] .:fi:Hello>"
      ]
     },
     "execution_count": 18,
     "metadata": {},
     "output_type": "execute_result"
    }
   ],
   "source": [
    "t"
   ]
  },
  {
   "cell_type": "markdown",
   "metadata": {},
   "source": [
    "## Topic types"
   ]
  },
  {
   "cell_type": "code",
   "execution_count": 27,
   "metadata": {},
   "outputs": [
    {
     "data": {
      "text/plain": [
       "[(0, 'NEED'), (1, 'GOAL'), (2, 'IDEA'), (3, 'PLAN'), (4, 'STEP'), (5, 'TASK')]"
      ]
     },
     "execution_count": 27,
     "metadata": {},
     "output_type": "execute_result"
    }
   ],
   "source": [
    "[(it[0], it[1].upper()) for it in Topic.TOPIC_TYPES]"
   ]
  },
  {
   "cell_type": "markdown",
   "metadata": {},
   "source": [
    "There are topic types:"
   ]
  },
  {
   "cell_type": "code",
   "execution_count": null,
   "metadata": {},
   "outputs": [],
   "source": []
  }
 ],
 "metadata": {
  "kernelspec": {
   "display_name": "Python 3",
   "language": "python",
   "name": "python3"
  },
  "language_info": {
   "codemirror_mode": {
    "name": "ipython",
    "version": 3
   },
   "file_extension": ".py",
   "mimetype": "text/x-python",
   "name": "python",
   "nbconvert_exporter": "python",
   "pygments_lexer": "ipython3",
   "version": "3.5.3"
  }
 },
 "nbformat": 4,
 "nbformat_minor": 2
}
